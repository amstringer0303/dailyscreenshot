from selenium import webdriver
from PIL import Image
import time
import schedule
from datetime import datetime

def capture_screenshot():
    # URL centered around Barrow, AK, and visible during daytime
    url = 'https://worldview.earthdata.nasa.gov/?v=-157.23997415657044,71.08082336006164,-156.44895853157044,71.5274175983429&s=-156.7887,71.2906&t=2024-07-10-T18%3A11%3A29Z'

    # Set up Selenium WebDriver
    options = webdriver.ChromeOptions()
    options.add_argument('--headless')
    driver = webdriver.Chrome(options=options)
    
    try:
        # Navigate to NASA Worldview
        driver.get(url)
        time.sleep(10)  # Wait for the page to load

        # Capture screenshot
        screenshot = driver.get_screenshot_as_png()
        timestamp = datetime.now().strftime('%Y-%m-%d_%H-%M-%S')
        filename = f'screenshot_{timestamp}.png'
        with open(filename, 'wb') as f:
            f.write(screenshot)
        
        # Optionally, crop to focus on the coastline
        image = Image.open(filename)
        
        # Define the cropping box (adjust based on the screenshot size and Barrow's location)
        # For example purposes, we assume the full image is the area of interest
        # You need to inspect the screenshot and set these values appropriately
        width, height = image.size
        left = 0
        top = 0
        right = width
        bottom = height
        
        cropped_image = image.crop((left, top, right, bottom))
        cropped_filename = f'cropped_{timestamp}.png'
        cropped_image.save(cropped_filename)
        
        # Print a message indicating success
        print(f"Screenshot saved as {filename}")
        print(f"Cropped screenshot saved as {cropped_filename}")
        
    finally:
        driver.quit()

def job():
    capture_screenshot()

if __name__ == "__main__":
    # Schedule the script to run daily at 12:00 PM PDT
    schedule.every().day.at("12:00").do(job)

    while True:
        schedule.run_pending()
        time.sleep(1)