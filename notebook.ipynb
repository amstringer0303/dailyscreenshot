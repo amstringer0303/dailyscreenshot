{
 "cells": [
  {
   "cell_type": "code",
   "execution_count": null,
   "metadata": {},
   "outputs": [],
   "source": [
    "## import \n",
    "from selenium import webdriver\n",
    "from PIL import Image\n",
    "import time\n",
    "import schedule\n",
    "from datetime import datetime"
   ]
  },
  {
   "cell_type": "code",
   "execution_count": null,
   "metadata": {},
   "outputs": [],
   "source": [
    "def capture_screenshot():\n",
    "    # URL centered around Barrow, AK, and visible during daytime\n",
    "    url = 'https://worldview.earthdata.nasa.gov/?v=-157.23997415657044,71.08082336006164,-156.44895853157044,71.5274175983429&s=-156.7887,71.2906&t=2024-07-10-T18%3A11%3A29Z'\n",
    "\n",
    "    # Set up Selenium WebDriver\n",
    "    options = webdriver.ChromeOptions()\n",
    "    options.add_argument('--headless')\n",
    "    driver = webdriver.Chrome(options=options)\n",
    "    \n",
    "    try:\n",
    "        # Navigate to NASA Worldview\n",
    "        driver.get(url)\n",
    "        time.sleep(10)  # Wait for the page to load\n",
    "\n",
    "        # Capture screenshot\n",
    "        screenshot = driver.get_screenshot_as_png()\n",
    "        timestamp = datetime.now().strftime('%Y-%m-%d_%H-%M-%S')\n",
    "        filename = f'screenshot_{timestamp}.png'\n",
    "        with open(filename, 'wb') as f:\n",
    "            f.write(screenshot)\n",
    "        \n",
    "        # Optionally, crop to focus on the coastline\n",
    "        image = Image.open(filename)\n",
    "        \n",
    "        # Define the cropping box (adjust based on the screenshot size and Barrow's location)\n",
    "        # For example purposes, we assume the full image is the area of interest\n",
    "        # You need to inspect the screenshot and set these values appropriately\n",
    "        width, height = image.size\n",
    "        left = 0\n",
    "        top = 0\n",
    "        right = width\n",
    "        bottom = height\n",
    "        \n",
    "        cropped_image = image.crop((left, top, right, bottom))\n",
    "        cropped_filename = f'cropped_{timestamp}.png'\n",
    "        cropped_image.save(cropped_filename)\n",
    "        \n",
    "        # Print a message indicating success\n",
    "        print(f\"Screenshot saved as {filename}\")\n",
    "        print(f\"Cropped screenshot saved as {cropped_filename}\")\n",
    "        \n",
    "    finally:\n",
    "        driver.quit()\n",
    "\n",
    "def job():\n",
    "    capture_screenshot()\n",
    "\n",
    "if __name__ == \"__main__\":\n",
    "    # Schedule the script to run daily at 12:00 PM PDT\n",
    "    schedule.every().day.at(\"12:00\").do(job)\n",
    "\n",
    "    while True:\n",
    "        schedule.run_pending()\n",
    "        time.sleep(1)"
   ]
  },
  {
   "cell_type": "code",
   "execution_count": null,
   "metadata": {},
   "outputs": [],
   "source": []
  }
 ],
 "metadata": {
  "language_info": {
   "name": "python"
  }
 },
 "nbformat": 4,
 "nbformat_minor": 2
}
